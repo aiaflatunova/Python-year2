{
 "cells": [
  {
   "cell_type": "code",
   "execution_count": 74,
   "metadata": {},
   "outputs": [],
   "source": [
    "def choose_user(names):\n",
    "    user = input()\n",
    "    while user not in names:\n",
    "        print('Данного имени нет в списке! Попробуйте еще раз:')\n",
    "        user = input()\n",
    "    print('Вы выбрали пользователя', user)\n",
    "    return user"
   ]
  },
  {
   "cell_type": "code",
   "execution_count": 75,
   "metadata": {},
   "outputs": [],
   "source": [
    "def gh_url(user):\n",
    "    url = 'https://api.github.com/users/%s/repos' % user  \n",
    "    return url"
   ]
  },
  {
   "cell_type": "code",
   "execution_count": 76,
   "metadata": {},
   "outputs": [],
   "source": [
    "def load_data(url):\n",
    "    response = urllib.request.urlopen(url)\n",
    "    text = response.read().decode('utf-8')\n",
    "    data = json.loads(text)\n",
    "    return data"
   ]
  },
  {
   "cell_type": "code",
   "execution_count": 77,
   "metadata": {},
   "outputs": [],
   "source": [
    "def rep_stats(data, user):\n",
    "    lang = []\n",
    "    print('Вот список его репозиториев:')\n",
    "    for i in data:\n",
    "        print(i[\"name\"], ': ', i[\"description\"])\n",
    "        lang.append(i[\"language\"])\n",
    "    a = set(lang)\n",
    "    list(a)\n",
    "    a.remove(None)\n",
    "    a = ', '.join(a)\n",
    "    print('Пользователь', user, 'пишет на', a, end = '.\\n')\n",
    "    "
   ]
  },
  {
   "cell_type": "code",
   "execution_count": 78,
   "metadata": {
    "scrolled": false
   },
   "outputs": [
    {
     "name": "stdout",
     "output_type": "stream",
     "text": [
      "elmiram\n",
      "Вы выбрали пользователя elmiram\n",
      "Вот список его репозиториев:\n",
      "19thcentury :  None\n",
      "2016learnpython :  Python Teaching, Seminars for 2nd year students of School of Linguistics NRU HSE\n",
      "2017learnpython :  Python Teaching, Seminars for 3rd year students of School of Linguistics NRU HSE\n",
      "animal_sounds_graph_project :  None\n",
      "ASD_children_corpus :  None\n",
      "children_texts_corpus :  StartWrit corpus is a collection of texts written by elementary school children.\n",
      "computer-science-flash-cards :  Mini website for testing both general CS knowledge and enforce coding practice and common algorithm/data structure memorization.\n",
      "constructicon :  None\n",
      "elmiram.github.io :  Resume\n",
      "EmotionAnalysisInVideo :  Tracker of basic emotions of a movie character built with Microsoft Computer Vision Services\n",
      "google-interview-university :  A complete daily plan for studying to become a Google software engineer.\n",
      "HarryPotterBot :  Bot uses words from Harry Potter books to generate phases.\n",
      "hh-1-1-git-commands :  None\n",
      "hh-1-1-repoA :  None\n",
      "hh-1-1-repoB :  None\n",
      "hh-1-2-frontik-no-testing :  None\n",
      "hh-1-2-frontik-testing :  None\n",
      "hh-1-2-git-commands :  None\n",
      "hh-unix-assignment :  None\n",
      "homework :  this is programming homework\n",
      "hselingprojects :  Website to showcase projects that are developed at School of Linguistics\n",
      "learner_corpus :  None\n",
      "logo_compiler :  None\n",
      "pythonvjs :  Python versus JS: comparative tables\n",
      "riichicount :  Riichi mahjong: test on hand cost calculation. riichicount.pythonanywhere.com\n",
      "RusDisamb :  Scripts for disambiguation workshop\n",
      "russian_learner_corpus :  Russian Learner Corpus, a platform for corpus search and annotation\n",
      "RusTokenizer :  Splitter and tokenizer for Russian\n",
      "seq2seq_chatbot :  Sequence-to-Sequence chatbot using tensorflow\n",
      "txt2prs :  txt2prs\n",
      "Пользователь elmiram пишет на CSS, JavaScript, Shell, C#, HTML, Python, Jupyter Notebook.\n",
      "None\n",
      "None\n"
     ]
    }
   ],
   "source": [
    "import json\n",
    "import urllib.request\n",
    "names = ['elmiram', 'maryszmary', 'lizaku', 'nevmenandr', 'ancatmara', 'roctbb', 'akutuzov', 'agricolamz', 'lehkost', 'kylepjohnson', 'mikekestemont', 'demidovakatya', 'shwars', 'timgraham', 'arogozhnikov', 'jasny', 'bcongdon', 'whyisjake', 'gvanrossum']\n",
    "\n",
    "def main(names):\n",
    "    user = choose_user(names)\n",
    "    url = gh_url(user)\n",
    "    data = load_data(url)\n",
    "    print(rep_stats(data, user))\n",
    "\n",
    "print(main(names))\n",
    "    \n",
    "        \n",
    "        \n"
   ]
  },
  {
   "cell_type": "code",
   "execution_count": null,
   "metadata": {},
   "outputs": [],
   "source": []
  }
 ],
 "metadata": {
  "kernelspec": {
   "display_name": "Python 3",
   "language": "python",
   "name": "python3"
  },
  "language_info": {
   "codemirror_mode": {
    "name": "ipython",
    "version": 3
   },
   "file_extension": ".py",
   "mimetype": "text/x-python",
   "name": "python",
   "nbconvert_exporter": "python",
   "pygments_lexer": "ipython3",
   "version": "3.7.0"
  }
 },
 "nbformat": 4,
 "nbformat_minor": 2
}
